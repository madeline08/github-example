{
 "cells": [
  {
   "cell_type": "markdown",
   "metadata": {
    "collapsed": true
   },
   "source": [
    "# DataScience/Week 5"
   ]
  },
  {
   "cell_type": "markdown",
   "metadata": {},
   "source": [
    "### Introducion"
   ]
  },
  {
   "cell_type": "markdown",
   "metadata": {},
   "source": [
    "In this sudy, we will examine the characteristic of each town and which part of Singapore should a recreational business start. Recreational business owner will be interested in this project."
   ]
  },
  {
   "cell_type": "markdown",
   "metadata": {},
   "source": [
    "For Data, we will use list of Towns in Singapore by using Wikipedia. We will examine the following features of town:\n",
    "- what are their most common spot in each town\n",
    "- What is the distribution of nature of business\n",
    "\n",
    "We will make use of Foursquare location data to further understand the pattern/behavior of  locals and competition level in the country. We will also use OneMap API to obtain the location cooridnates of each town in Singapore. \n",
    "\n",
    "A location shall be recommended based on:\n",
    "1. Competition within Town\n",
    "2. Location\n",
    "3. Behaviour of customer -- interest level by the general public"
   ]
  },
  {
   "cell_type": "code",
   "execution_count": 1,
   "metadata": {
    "collapsed": false
   },
   "outputs": [],
   "source": [
    "import requests\n",
    "import urllib.request\n",
    "import time\n",
    "from bs4 import BeautifulSoup\n",
    "import numpy as np\n",
    "import pandas as pd\n",
    "from urllib.request import urlopen"
   ]
  },
  {
   "cell_type": "code",
   "execution_count": 2,
   "metadata": {
    "collapsed": true
   },
   "outputs": [],
   "source": [
    "import json"
   ]
  },
  {
   "cell_type": "markdown",
   "metadata": {},
   "source": [
    "### Methodology"
   ]
  },
  {
   "cell_type": "markdown",
   "metadata": {},
   "source": [
    "We use python beautiful soup library to extract the data from wikipedia"
   ]
  },
  {
   "cell_type": "code",
   "execution_count": 3,
   "metadata": {
    "collapsed": true
   },
   "outputs": [],
   "source": [
    "url = 'https://en.wikipedia.org/wiki/New_towns_of_Singapore'\n",
    "html = urlopen(url) \n",
    "soup = BeautifulSoup(html, 'html.parser')"
   ]
  },
  {
   "cell_type": "code",
   "execution_count": 4,
   "metadata": {
    "collapsed": true
   },
   "outputs": [],
   "source": [
    "soup = soup.find_all(\"table\")"
   ]
  },
  {
   "cell_type": "code",
   "execution_count": 5,
   "metadata": {
    "collapsed": false
   },
   "outputs": [],
   "source": [
    "Town = []\n",
    "\n",
    "for table in soup:\n",
    "    rows = table.find_all('tr')\n",
    "    \n",
    "    for row in rows:\n",
    "        cells = row.find_all('td')\n",
    "        \n",
    "        if len(cells) > 0:\n",
    "            x = cells[0]\n",
    "            Town.append(x.text.strip())\n",
    "            "
   ]
  },
  {
   "cell_type": "code",
   "execution_count": 6,
   "metadata": {
    "collapsed": false
   },
   "outputs": [
    {
     "data": {
      "text/plain": [
       "30"
      ]
     },
     "execution_count": 6,
     "metadata": {},
     "output_type": "execute_result"
    }
   ],
   "source": [
    "len(Town)"
   ]
  },
  {
   "cell_type": "code",
   "execution_count": 7,
   "metadata": {
    "collapsed": false
   },
   "outputs": [],
   "source": [
    "Town = Town[:26]"
   ]
  },
  {
   "cell_type": "markdown",
   "metadata": {},
   "source": [
    "Now we use Onemap API to obtain the coordinates and fill up those town with missing coordinates"
   ]
  },
  {
   "cell_type": "code",
   "execution_count": 8,
   "metadata": {
    "collapsed": false
   },
   "outputs": [
    {
     "name": "stdout",
     "output_type": "stream",
     "text": [
      "Ang Mo Kio,Lat: 1.369955509 Long: 103.8466998\n",
      "Bedok,Lat: 1.323682017 Long: 103.9477893\n",
      "Bishan,Lat: 1.347306941 Long: 103.85241490000001\n",
      "Bukit Batok,Lat: 1.3493675019999998 Long: 103.7453474\n",
      "Bukit Merah,Lat: 1.279256199 Long: 103.82720929999999\n",
      "Bukit Panjang,Lat: 1.377507276 Long: 103.7736056\n",
      "Choa Chu Kang,Lat: 1.4040773880000001 Long: 103.7489021\n",
      "Clementi,Lat: 1.323376648 Long: 103.7740173\n",
      "Geylang,Lat: 1.312893362 Long: 103.887635\n",
      "Hougang,Lat: 1.379943836 Long: 103.8874655\n",
      "Jurong East,Lat: 1.340639044 Long: 103.7424745\n",
      "Jurong West,Lat: 1.341603266 Long: 103.70808520000001\n",
      "No Results\n",
      "Pasir Ris,Lat: 1.3815451619999999 Long: 103.9455095\n",
      "Punggol,Lat: 1.4054135369999998 Long: 103.8968239\n",
      "Queenstown,Lat: 1.294250313 Long: 103.8061795\n",
      "Sembawang,Lat: 1.4613616269999998 Long: 103.8365005\n",
      "Sengkang,Lat: 1.383153805 Long: 103.8923817\n",
      "Serangoon,Lat: 1.344892015 Long: 103.8712522\n",
      "Tampines,Lat: 1.344593928 Long: 103.9475126\n",
      "Toa Payoh,Lat: 1.337007933 Long: 103.8428502\n",
      "Woodlands,Lat: 1.415205915 Long: 103.7585543\n",
      "Yishun,Lat: 1.4395060730000002 Long: 103.8308796\n",
      "Bukit Timah,Lat: 1.34137425 Long: 103.7708104\n",
      "Marine Parade,Lat: 1.302736881 Long: 103.9046524\n",
      "No Results\n"
     ]
    }
   ],
   "source": [
    "town_lat = []\n",
    "town_long = []\n",
    "\n",
    "for i in range(0, len(Town)):\n",
    "    query_address = Town[i]\n",
    "    query_string = 'https://developers.onemap.sg/commonapi/search?searchVal='+str(query_address)+'&returnGeom=Y&getAddrDetails=Y'\n",
    "    resp = requests.get(query_string)\n",
    "\n",
    "    data_town=json.loads(resp.content.decode('utf-8'))\n",
    "    \n",
    "    if data_town['found'] != 0:\n",
    "        town_lat.append(data_town[\"results\"][0][\"LATITUDE\"])\n",
    "        town_long.append(data_town[\"results\"][0][\"LONGITUDE\"])\n",
    "\n",
    "        print (str(query_address)+\",Lat: \"+data_town['results'][0]['LATITUDE'] +\" Long: \"+data_town['results'][0]['LONGITUDE'])\n",
    "\n",
    "    else:\n",
    "        town_lat.append('NotFound')\n",
    "        town_long.append('NotFound')\n",
    "        print (\"No Results\")"
   ]
  },
  {
   "cell_type": "code",
   "execution_count": 9,
   "metadata": {
    "collapsed": true
   },
   "outputs": [],
   "source": [
    "df = pd.DataFrame({'Town': Town,'latitude': town_lat,'longitude':town_long})"
   ]
  },
  {
   "cell_type": "code",
   "execution_count": 10,
   "metadata": {
    "collapsed": false
   },
   "outputs": [
    {
     "data": {
      "text/html": [
       "<div>\n",
       "<style scoped>\n",
       "    .dataframe tbody tr th:only-of-type {\n",
       "        vertical-align: middle;\n",
       "    }\n",
       "\n",
       "    .dataframe tbody tr th {\n",
       "        vertical-align: top;\n",
       "    }\n",
       "\n",
       "    .dataframe thead th {\n",
       "        text-align: right;\n",
       "    }\n",
       "</style>\n",
       "<table border=\"1\" class=\"dataframe\">\n",
       "  <thead>\n",
       "    <tr style=\"text-align: right;\">\n",
       "      <th></th>\n",
       "      <th>Town</th>\n",
       "      <th>latitude</th>\n",
       "      <th>longitude</th>\n",
       "    </tr>\n",
       "  </thead>\n",
       "  <tbody>\n",
       "    <tr>\n",
       "      <th>12</th>\n",
       "      <td>Kallang/Whampoa</td>\n",
       "      <td>NotFound</td>\n",
       "      <td>NotFound</td>\n",
       "    </tr>\n",
       "    <tr>\n",
       "      <th>25</th>\n",
       "      <td>Central Area</td>\n",
       "      <td>NotFound</td>\n",
       "      <td>NotFound</td>\n",
       "    </tr>\n",
       "  </tbody>\n",
       "</table>\n",
       "</div>"
      ],
      "text/plain": [
       "               Town  latitude longitude\n",
       "12  Kallang/Whampoa  NotFound  NotFound\n",
       "25     Central Area  NotFound  NotFound"
      ]
     },
     "execution_count": 10,
     "metadata": {},
     "output_type": "execute_result"
    }
   ],
   "source": [
    "df[df['latitude']=='NotFound']"
   ]
  },
  {
   "cell_type": "code",
   "execution_count": 11,
   "metadata": {
    "collapsed": false
   },
   "outputs": [],
   "source": [
    "df.iloc[12,1] = \"1.3069\"\n",
    "df.iloc[12,2] = \"103.8695\"\n",
    "df.iloc[25,1] = \"1.287953\"\n",
    "df.iloc[25,2] = \"103.851784\""
   ]
  },
  {
   "cell_type": "markdown",
   "metadata": {},
   "source": [
    "We have gotten a complete table of town with Latitude and Longitude"
   ]
  },
  {
   "cell_type": "code",
   "execution_count": 12,
   "metadata": {
    "collapsed": false
   },
   "outputs": [
    {
     "data": {
      "text/html": [
       "<div>\n",
       "<style scoped>\n",
       "    .dataframe tbody tr th:only-of-type {\n",
       "        vertical-align: middle;\n",
       "    }\n",
       "\n",
       "    .dataframe tbody tr th {\n",
       "        vertical-align: top;\n",
       "    }\n",
       "\n",
       "    .dataframe thead th {\n",
       "        text-align: right;\n",
       "    }\n",
       "</style>\n",
       "<table border=\"1\" class=\"dataframe\">\n",
       "  <thead>\n",
       "    <tr style=\"text-align: right;\">\n",
       "      <th></th>\n",
       "      <th>Town</th>\n",
       "      <th>latitude</th>\n",
       "      <th>longitude</th>\n",
       "    </tr>\n",
       "  </thead>\n",
       "  <tbody>\n",
       "    <tr>\n",
       "      <th>0</th>\n",
       "      <td>Ang Mo Kio</td>\n",
       "      <td>1.369955509</td>\n",
       "      <td>103.8466998</td>\n",
       "    </tr>\n",
       "    <tr>\n",
       "      <th>1</th>\n",
       "      <td>Bedok</td>\n",
       "      <td>1.323682017</td>\n",
       "      <td>103.9477893</td>\n",
       "    </tr>\n",
       "    <tr>\n",
       "      <th>2</th>\n",
       "      <td>Bishan</td>\n",
       "      <td>1.347306941</td>\n",
       "      <td>103.85241490000001</td>\n",
       "    </tr>\n",
       "    <tr>\n",
       "      <th>3</th>\n",
       "      <td>Bukit Batok</td>\n",
       "      <td>1.3493675019999998</td>\n",
       "      <td>103.7453474</td>\n",
       "    </tr>\n",
       "    <tr>\n",
       "      <th>4</th>\n",
       "      <td>Bukit Merah</td>\n",
       "      <td>1.279256199</td>\n",
       "      <td>103.82720929999999</td>\n",
       "    </tr>\n",
       "    <tr>\n",
       "      <th>5</th>\n",
       "      <td>Bukit Panjang</td>\n",
       "      <td>1.377507276</td>\n",
       "      <td>103.7736056</td>\n",
       "    </tr>\n",
       "    <tr>\n",
       "      <th>6</th>\n",
       "      <td>Choa Chu Kang</td>\n",
       "      <td>1.4040773880000001</td>\n",
       "      <td>103.7489021</td>\n",
       "    </tr>\n",
       "    <tr>\n",
       "      <th>7</th>\n",
       "      <td>Clementi</td>\n",
       "      <td>1.323376648</td>\n",
       "      <td>103.7740173</td>\n",
       "    </tr>\n",
       "    <tr>\n",
       "      <th>8</th>\n",
       "      <td>Geylang</td>\n",
       "      <td>1.312893362</td>\n",
       "      <td>103.887635</td>\n",
       "    </tr>\n",
       "    <tr>\n",
       "      <th>9</th>\n",
       "      <td>Hougang</td>\n",
       "      <td>1.379943836</td>\n",
       "      <td>103.8874655</td>\n",
       "    </tr>\n",
       "    <tr>\n",
       "      <th>10</th>\n",
       "      <td>Jurong East</td>\n",
       "      <td>1.340639044</td>\n",
       "      <td>103.7424745</td>\n",
       "    </tr>\n",
       "    <tr>\n",
       "      <th>11</th>\n",
       "      <td>Jurong West</td>\n",
       "      <td>1.341603266</td>\n",
       "      <td>103.70808520000001</td>\n",
       "    </tr>\n",
       "    <tr>\n",
       "      <th>12</th>\n",
       "      <td>Kallang/Whampoa</td>\n",
       "      <td>1.3069</td>\n",
       "      <td>103.8695</td>\n",
       "    </tr>\n",
       "    <tr>\n",
       "      <th>13</th>\n",
       "      <td>Pasir Ris</td>\n",
       "      <td>1.3815451619999999</td>\n",
       "      <td>103.9455095</td>\n",
       "    </tr>\n",
       "    <tr>\n",
       "      <th>14</th>\n",
       "      <td>Punggol</td>\n",
       "      <td>1.4054135369999998</td>\n",
       "      <td>103.8968239</td>\n",
       "    </tr>\n",
       "    <tr>\n",
       "      <th>15</th>\n",
       "      <td>Queenstown</td>\n",
       "      <td>1.294250313</td>\n",
       "      <td>103.8061795</td>\n",
       "    </tr>\n",
       "    <tr>\n",
       "      <th>16</th>\n",
       "      <td>Sembawang</td>\n",
       "      <td>1.4613616269999998</td>\n",
       "      <td>103.8365005</td>\n",
       "    </tr>\n",
       "    <tr>\n",
       "      <th>17</th>\n",
       "      <td>Sengkang</td>\n",
       "      <td>1.383153805</td>\n",
       "      <td>103.8923817</td>\n",
       "    </tr>\n",
       "    <tr>\n",
       "      <th>18</th>\n",
       "      <td>Serangoon</td>\n",
       "      <td>1.344892015</td>\n",
       "      <td>103.8712522</td>\n",
       "    </tr>\n",
       "    <tr>\n",
       "      <th>19</th>\n",
       "      <td>Tampines</td>\n",
       "      <td>1.344593928</td>\n",
       "      <td>103.9475126</td>\n",
       "    </tr>\n",
       "    <tr>\n",
       "      <th>20</th>\n",
       "      <td>Toa Payoh</td>\n",
       "      <td>1.337007933</td>\n",
       "      <td>103.8428502</td>\n",
       "    </tr>\n",
       "    <tr>\n",
       "      <th>21</th>\n",
       "      <td>Woodlands</td>\n",
       "      <td>1.415205915</td>\n",
       "      <td>103.7585543</td>\n",
       "    </tr>\n",
       "    <tr>\n",
       "      <th>22</th>\n",
       "      <td>Yishun</td>\n",
       "      <td>1.4395060730000002</td>\n",
       "      <td>103.8308796</td>\n",
       "    </tr>\n",
       "    <tr>\n",
       "      <th>23</th>\n",
       "      <td>Bukit Timah</td>\n",
       "      <td>1.34137425</td>\n",
       "      <td>103.7708104</td>\n",
       "    </tr>\n",
       "    <tr>\n",
       "      <th>24</th>\n",
       "      <td>Marine Parade</td>\n",
       "      <td>1.302736881</td>\n",
       "      <td>103.9046524</td>\n",
       "    </tr>\n",
       "    <tr>\n",
       "      <th>25</th>\n",
       "      <td>Central Area</td>\n",
       "      <td>1.287953</td>\n",
       "      <td>103.851784</td>\n",
       "    </tr>\n",
       "  </tbody>\n",
       "</table>\n",
       "</div>"
      ],
      "text/plain": [
       "               Town            latitude           longitude\n",
       "0        Ang Mo Kio         1.369955509         103.8466998\n",
       "1             Bedok         1.323682017         103.9477893\n",
       "2            Bishan         1.347306941  103.85241490000001\n",
       "3       Bukit Batok  1.3493675019999998         103.7453474\n",
       "4       Bukit Merah         1.279256199  103.82720929999999\n",
       "5     Bukit Panjang         1.377507276         103.7736056\n",
       "6     Choa Chu Kang  1.4040773880000001         103.7489021\n",
       "7          Clementi         1.323376648         103.7740173\n",
       "8           Geylang         1.312893362          103.887635\n",
       "9           Hougang         1.379943836         103.8874655\n",
       "10      Jurong East         1.340639044         103.7424745\n",
       "11      Jurong West         1.341603266  103.70808520000001\n",
       "12  Kallang/Whampoa              1.3069            103.8695\n",
       "13        Pasir Ris  1.3815451619999999         103.9455095\n",
       "14          Punggol  1.4054135369999998         103.8968239\n",
       "15       Queenstown         1.294250313         103.8061795\n",
       "16        Sembawang  1.4613616269999998         103.8365005\n",
       "17         Sengkang         1.383153805         103.8923817\n",
       "18        Serangoon         1.344892015         103.8712522\n",
       "19         Tampines         1.344593928         103.9475126\n",
       "20        Toa Payoh         1.337007933         103.8428502\n",
       "21        Woodlands         1.415205915         103.7585543\n",
       "22           Yishun  1.4395060730000002         103.8308796\n",
       "23      Bukit Timah          1.34137425         103.7708104\n",
       "24    Marine Parade         1.302736881         103.9046524\n",
       "25     Central Area            1.287953          103.851784"
      ]
     },
     "execution_count": 12,
     "metadata": {},
     "output_type": "execute_result"
    }
   ],
   "source": [
    "df"
   ]
  },
  {
   "cell_type": "code",
   "execution_count": 13,
   "metadata": {
    "collapsed": true
   },
   "outputs": [],
   "source": [
    "# Foursquare API credential"
   ]
  },
  {
   "cell_type": "markdown",
   "metadata": {},
   "source": [
    "We set limit to be 1000 and Radius to be 600 in this case so that more results can be captured. We create API to obtain all information from Foursquare"
   ]
  },
  {
   "cell_type": "code",
   "execution_count": 14,
   "metadata": {
    "collapsed": true
   },
   "outputs": [],
   "source": [
    "limit = 1000\n",
    "Radius = 600"
   ]
  },
  {
   "cell_type": "code",
   "execution_count": 15,
   "metadata": {
    "collapsed": true
   },
   "outputs": [],
   "source": [
    "def getNearbyVenues(names, latitudes, longitudes, radius=600):\n",
    "    \n",
    "    venues_list=[]\n",
    "    for name, lat, lng in zip(names, latitudes, longitudes):\n",
    "        print(name)\n",
    "            \n",
    "        # create the API request URL\n",
    "        url = 'https://api.foursquare.com/v2/venues/explore?&client_id={}&client_secret={}&v={}&ll={},{}&radius={}&limit={}'.format(\n",
    "            CLIENT_ID, \n",
    "            CLIENT_SECRET, \n",
    "            VERSION, \n",
    "            lat, \n",
    "            lng, \n",
    "            radius, \n",
    "            limit)\n",
    "            \n",
    "        # make the GET request\n",
    "        results = requests.get(url).json()[\"response\"]['groups'][0]['items']\n",
    "        \n",
    "        # return only relevant information for each nearby venue\n",
    "        venues_list.append([(\n",
    "            name, \n",
    "            lat, \n",
    "            lng, \n",
    "            v['venue']['name'], \n",
    "            v['venue']['location']['lat'], \n",
    "            v['venue']['location']['lng'],  \n",
    "            v['venue']['categories'][0]['name']) for v in results])\n",
    "\n",
    "    nearby_venues = pd.DataFrame([item for venue_list in venues_list for item in venue_list])\n",
    "    nearby_venues.columns = ['Neighborhood', \n",
    "                  'Neighborhood Latitude', \n",
    "                  'Neighborhood Longitude', \n",
    "                  'Venue', \n",
    "                  'Venue Latitude', \n",
    "                  'Venue Longitude', \n",
    "                  'Venue Category']\n",
    "    \n",
    "    return(nearby_venues)"
   ]
  },
  {
   "cell_type": "code",
   "execution_count": 16,
   "metadata": {
    "collapsed": false
   },
   "outputs": [
    {
     "name": "stdout",
     "output_type": "stream",
     "text": [
      "Ang Mo Kio\n",
      "Bedok\n",
      "Bishan\n",
      "Bukit Batok\n",
      "Bukit Merah\n",
      "Bukit Panjang\n",
      "Choa Chu Kang\n",
      "Clementi\n",
      "Geylang\n",
      "Hougang\n",
      "Jurong East\n",
      "Jurong West\n",
      "Kallang/Whampoa\n",
      "Pasir Ris\n",
      "Punggol\n",
      "Queenstown\n",
      "Sembawang\n",
      "Sengkang\n",
      "Serangoon\n",
      "Tampines\n",
      "Toa Payoh\n",
      "Woodlands\n",
      "Yishun\n",
      "Bukit Timah\n",
      "Marine Parade\n",
      "Central Area\n"
     ]
    }
   ],
   "source": [
    "df_venues = getNearbyVenues(names=df['Town'],latitudes=df['latitude'],longitudes=df['longitude'])"
   ]
  },
  {
   "cell_type": "code",
   "execution_count": 17,
   "metadata": {
    "collapsed": false
   },
   "outputs": [
    {
     "data": {
      "text/plain": [
       "(734, 7)"
      ]
     },
     "execution_count": 17,
     "metadata": {},
     "output_type": "execute_result"
    }
   ],
   "source": [
    "df_venues.shape"
   ]
  },
  {
   "cell_type": "markdown",
   "metadata": {},
   "source": [
    "All common venues based on all towns in Singapore have been obtained and all data have been tabulated as below"
   ]
  },
  {
   "cell_type": "code",
   "execution_count": 18,
   "metadata": {
    "collapsed": false
   },
   "outputs": [
    {
     "data": {
      "text/html": [
       "<div>\n",
       "<style scoped>\n",
       "    .dataframe tbody tr th:only-of-type {\n",
       "        vertical-align: middle;\n",
       "    }\n",
       "\n",
       "    .dataframe tbody tr th {\n",
       "        vertical-align: top;\n",
       "    }\n",
       "\n",
       "    .dataframe thead th {\n",
       "        text-align: right;\n",
       "    }\n",
       "</style>\n",
       "<table border=\"1\" class=\"dataframe\">\n",
       "  <thead>\n",
       "    <tr style=\"text-align: right;\">\n",
       "      <th></th>\n",
       "      <th>Neighborhood</th>\n",
       "      <th>Neighborhood Latitude</th>\n",
       "      <th>Neighborhood Longitude</th>\n",
       "      <th>Venue</th>\n",
       "      <th>Venue Latitude</th>\n",
       "      <th>Venue Longitude</th>\n",
       "      <th>Venue Category</th>\n",
       "    </tr>\n",
       "  </thead>\n",
       "  <tbody>\n",
       "    <tr>\n",
       "      <th>0</th>\n",
       "      <td>Ang Mo Kio</td>\n",
       "      <td>1.369955509</td>\n",
       "      <td>103.8466998</td>\n",
       "      <td>Old Chang Kee</td>\n",
       "      <td>1.369094</td>\n",
       "      <td>103.848389</td>\n",
       "      <td>Snack Place</td>\n",
       "    </tr>\n",
       "    <tr>\n",
       "      <th>1</th>\n",
       "      <td>Ang Mo Kio</td>\n",
       "      <td>1.369955509</td>\n",
       "      <td>103.8466998</td>\n",
       "      <td>MOS Burger</td>\n",
       "      <td>1.369170</td>\n",
       "      <td>103.847831</td>\n",
       "      <td>Burger Joint</td>\n",
       "    </tr>\n",
       "    <tr>\n",
       "      <th>2</th>\n",
       "      <td>Ang Mo Kio</td>\n",
       "      <td>1.369955509</td>\n",
       "      <td>103.8466998</td>\n",
       "      <td>FairPrice Xtra</td>\n",
       "      <td>1.369279</td>\n",
       "      <td>103.848886</td>\n",
       "      <td>Supermarket</td>\n",
       "    </tr>\n",
       "    <tr>\n",
       "      <th>3</th>\n",
       "      <td>Ang Mo Kio</td>\n",
       "      <td>1.369955509</td>\n",
       "      <td>103.8466998</td>\n",
       "      <td>Face Ban Mian 非板面 (Ang Mo Kio)</td>\n",
       "      <td>1.372031</td>\n",
       "      <td>103.847504</td>\n",
       "      <td>Noodle House</td>\n",
       "    </tr>\n",
       "    <tr>\n",
       "      <th>4</th>\n",
       "      <td>Ang Mo Kio</td>\n",
       "      <td>1.369955509</td>\n",
       "      <td>103.8466998</td>\n",
       "      <td>NTUC FairPrice</td>\n",
       "      <td>1.371507</td>\n",
       "      <td>103.847082</td>\n",
       "      <td>Supermarket</td>\n",
       "    </tr>\n",
       "  </tbody>\n",
       "</table>\n",
       "</div>"
      ],
      "text/plain": [
       "  Neighborhood Neighborhood Latitude Neighborhood Longitude  \\\n",
       "0   Ang Mo Kio           1.369955509            103.8466998   \n",
       "1   Ang Mo Kio           1.369955509            103.8466998   \n",
       "2   Ang Mo Kio           1.369955509            103.8466998   \n",
       "3   Ang Mo Kio           1.369955509            103.8466998   \n",
       "4   Ang Mo Kio           1.369955509            103.8466998   \n",
       "\n",
       "                            Venue  Venue Latitude  Venue Longitude  \\\n",
       "0                   Old Chang Kee        1.369094       103.848389   \n",
       "1                      MOS Burger        1.369170       103.847831   \n",
       "2                  FairPrice Xtra        1.369279       103.848886   \n",
       "3  Face Ban Mian 非板面 (Ang Mo Kio)        1.372031       103.847504   \n",
       "4                  NTUC FairPrice        1.371507       103.847082   \n",
       "\n",
       "  Venue Category  \n",
       "0    Snack Place  \n",
       "1   Burger Joint  \n",
       "2    Supermarket  \n",
       "3   Noodle House  \n",
       "4    Supermarket  "
      ]
     },
     "execution_count": 18,
     "metadata": {},
     "output_type": "execute_result"
    }
   ],
   "source": [
    "df_venues.head()"
   ]
  },
  {
   "cell_type": "markdown",
   "metadata": {},
   "source": [
    "### Analysis on Data "
   ]
  },
  {
   "cell_type": "code",
   "execution_count": 19,
   "metadata": {
    "collapsed": true
   },
   "outputs": [],
   "source": [
    "import seaborn as sns\n",
    "import matplotlib.pyplot as plt\n",
    "%matplotlib inline"
   ]
  },
  {
   "cell_type": "markdown",
   "metadata": {},
   "source": [
    "Let us see how many venues/results in each town"
   ]
  },
  {
   "cell_type": "code",
   "execution_count": 20,
   "metadata": {
    "collapsed": false
   },
   "outputs": [
    {
     "data": {
      "text/html": [
       "<div>\n",
       "<style scoped>\n",
       "    .dataframe tbody tr th:only-of-type {\n",
       "        vertical-align: middle;\n",
       "    }\n",
       "\n",
       "    .dataframe tbody tr th {\n",
       "        vertical-align: top;\n",
       "    }\n",
       "\n",
       "    .dataframe thead th {\n",
       "        text-align: right;\n",
       "    }\n",
       "</style>\n",
       "<table border=\"1\" class=\"dataframe\">\n",
       "  <thead>\n",
       "    <tr style=\"text-align: right;\">\n",
       "      <th></th>\n",
       "      <th>Neighborhood Latitude</th>\n",
       "      <th>Neighborhood Longitude</th>\n",
       "      <th>Venue</th>\n",
       "      <th>Venue Latitude</th>\n",
       "      <th>Venue Longitude</th>\n",
       "      <th>Venue Category</th>\n",
       "    </tr>\n",
       "    <tr>\n",
       "      <th>Neighborhood</th>\n",
       "      <th></th>\n",
       "      <th></th>\n",
       "      <th></th>\n",
       "      <th></th>\n",
       "      <th></th>\n",
       "      <th></th>\n",
       "    </tr>\n",
       "  </thead>\n",
       "  <tbody>\n",
       "    <tr>\n",
       "      <th>Ang Mo Kio</th>\n",
       "      <td>51</td>\n",
       "      <td>51</td>\n",
       "      <td>51</td>\n",
       "      <td>51</td>\n",
       "      <td>51</td>\n",
       "      <td>51</td>\n",
       "    </tr>\n",
       "    <tr>\n",
       "      <th>Bedok</th>\n",
       "      <td>10</td>\n",
       "      <td>10</td>\n",
       "      <td>10</td>\n",
       "      <td>10</td>\n",
       "      <td>10</td>\n",
       "      <td>10</td>\n",
       "    </tr>\n",
       "    <tr>\n",
       "      <th>Bishan</th>\n",
       "      <td>45</td>\n",
       "      <td>45</td>\n",
       "      <td>45</td>\n",
       "      <td>45</td>\n",
       "      <td>45</td>\n",
       "      <td>45</td>\n",
       "    </tr>\n",
       "    <tr>\n",
       "      <th>Bukit Batok</th>\n",
       "      <td>27</td>\n",
       "      <td>27</td>\n",
       "      <td>27</td>\n",
       "      <td>27</td>\n",
       "      <td>27</td>\n",
       "      <td>27</td>\n",
       "    </tr>\n",
       "    <tr>\n",
       "      <th>Bukit Merah</th>\n",
       "      <td>18</td>\n",
       "      <td>18</td>\n",
       "      <td>18</td>\n",
       "      <td>18</td>\n",
       "      <td>18</td>\n",
       "      <td>18</td>\n",
       "    </tr>\n",
       "    <tr>\n",
       "      <th>Bukit Panjang</th>\n",
       "      <td>9</td>\n",
       "      <td>9</td>\n",
       "      <td>9</td>\n",
       "      <td>9</td>\n",
       "      <td>9</td>\n",
       "      <td>9</td>\n",
       "    </tr>\n",
       "    <tr>\n",
       "      <th>Bukit Timah</th>\n",
       "      <td>57</td>\n",
       "      <td>57</td>\n",
       "      <td>57</td>\n",
       "      <td>57</td>\n",
       "      <td>57</td>\n",
       "      <td>57</td>\n",
       "    </tr>\n",
       "    <tr>\n",
       "      <th>Central Area</th>\n",
       "      <td>100</td>\n",
       "      <td>100</td>\n",
       "      <td>100</td>\n",
       "      <td>100</td>\n",
       "      <td>100</td>\n",
       "      <td>100</td>\n",
       "    </tr>\n",
       "    <tr>\n",
       "      <th>Choa Chu Kang</th>\n",
       "      <td>11</td>\n",
       "      <td>11</td>\n",
       "      <td>11</td>\n",
       "      <td>11</td>\n",
       "      <td>11</td>\n",
       "      <td>11</td>\n",
       "    </tr>\n",
       "    <tr>\n",
       "      <th>Clementi</th>\n",
       "      <td>14</td>\n",
       "      <td>14</td>\n",
       "      <td>14</td>\n",
       "      <td>14</td>\n",
       "      <td>14</td>\n",
       "      <td>14</td>\n",
       "    </tr>\n",
       "    <tr>\n",
       "      <th>Geylang</th>\n",
       "      <td>37</td>\n",
       "      <td>37</td>\n",
       "      <td>37</td>\n",
       "      <td>37</td>\n",
       "      <td>37</td>\n",
       "      <td>37</td>\n",
       "    </tr>\n",
       "    <tr>\n",
       "      <th>Hougang</th>\n",
       "      <td>16</td>\n",
       "      <td>16</td>\n",
       "      <td>16</td>\n",
       "      <td>16</td>\n",
       "      <td>16</td>\n",
       "      <td>16</td>\n",
       "    </tr>\n",
       "    <tr>\n",
       "      <th>Jurong East</th>\n",
       "      <td>7</td>\n",
       "      <td>7</td>\n",
       "      <td>7</td>\n",
       "      <td>7</td>\n",
       "      <td>7</td>\n",
       "      <td>7</td>\n",
       "    </tr>\n",
       "    <tr>\n",
       "      <th>Jurong West</th>\n",
       "      <td>61</td>\n",
       "      <td>61</td>\n",
       "      <td>61</td>\n",
       "      <td>61</td>\n",
       "      <td>61</td>\n",
       "      <td>61</td>\n",
       "    </tr>\n",
       "    <tr>\n",
       "      <th>Kallang/Whampoa</th>\n",
       "      <td>44</td>\n",
       "      <td>44</td>\n",
       "      <td>44</td>\n",
       "      <td>44</td>\n",
       "      <td>44</td>\n",
       "      <td>44</td>\n",
       "    </tr>\n",
       "    <tr>\n",
       "      <th>Marine Parade</th>\n",
       "      <td>68</td>\n",
       "      <td>68</td>\n",
       "      <td>68</td>\n",
       "      <td>68</td>\n",
       "      <td>68</td>\n",
       "      <td>68</td>\n",
       "    </tr>\n",
       "    <tr>\n",
       "      <th>Pasir Ris</th>\n",
       "      <td>19</td>\n",
       "      <td>19</td>\n",
       "      <td>19</td>\n",
       "      <td>19</td>\n",
       "      <td>19</td>\n",
       "      <td>19</td>\n",
       "    </tr>\n",
       "    <tr>\n",
       "      <th>Punggol</th>\n",
       "      <td>9</td>\n",
       "      <td>9</td>\n",
       "      <td>9</td>\n",
       "      <td>9</td>\n",
       "      <td>9</td>\n",
       "      <td>9</td>\n",
       "    </tr>\n",
       "    <tr>\n",
       "      <th>Queenstown</th>\n",
       "      <td>29</td>\n",
       "      <td>29</td>\n",
       "      <td>29</td>\n",
       "      <td>29</td>\n",
       "      <td>29</td>\n",
       "      <td>29</td>\n",
       "    </tr>\n",
       "    <tr>\n",
       "      <th>Sembawang</th>\n",
       "      <td>7</td>\n",
       "      <td>7</td>\n",
       "      <td>7</td>\n",
       "      <td>7</td>\n",
       "      <td>7</td>\n",
       "      <td>7</td>\n",
       "    </tr>\n",
       "    <tr>\n",
       "      <th>Sengkang</th>\n",
       "      <td>13</td>\n",
       "      <td>13</td>\n",
       "      <td>13</td>\n",
       "      <td>13</td>\n",
       "      <td>13</td>\n",
       "      <td>13</td>\n",
       "    </tr>\n",
       "    <tr>\n",
       "      <th>Serangoon</th>\n",
       "      <td>21</td>\n",
       "      <td>21</td>\n",
       "      <td>21</td>\n",
       "      <td>21</td>\n",
       "      <td>21</td>\n",
       "      <td>21</td>\n",
       "    </tr>\n",
       "    <tr>\n",
       "      <th>Tampines</th>\n",
       "      <td>22</td>\n",
       "      <td>22</td>\n",
       "      <td>22</td>\n",
       "      <td>22</td>\n",
       "      <td>22</td>\n",
       "      <td>22</td>\n",
       "    </tr>\n",
       "    <tr>\n",
       "      <th>Toa Payoh</th>\n",
       "      <td>22</td>\n",
       "      <td>22</td>\n",
       "      <td>22</td>\n",
       "      <td>22</td>\n",
       "      <td>22</td>\n",
       "      <td>22</td>\n",
       "    </tr>\n",
       "    <tr>\n",
       "      <th>Woodlands</th>\n",
       "      <td>4</td>\n",
       "      <td>4</td>\n",
       "      <td>4</td>\n",
       "      <td>4</td>\n",
       "      <td>4</td>\n",
       "      <td>4</td>\n",
       "    </tr>\n",
       "    <tr>\n",
       "      <th>Yishun</th>\n",
       "      <td>13</td>\n",
       "      <td>13</td>\n",
       "      <td>13</td>\n",
       "      <td>13</td>\n",
       "      <td>13</td>\n",
       "      <td>13</td>\n",
       "    </tr>\n",
       "  </tbody>\n",
       "</table>\n",
       "</div>"
      ],
      "text/plain": [
       "                 Neighborhood Latitude  Neighborhood Longitude  Venue  \\\n",
       "Neighborhood                                                            \n",
       "Ang Mo Kio                          51                      51     51   \n",
       "Bedok                               10                      10     10   \n",
       "Bishan                              45                      45     45   \n",
       "Bukit Batok                         27                      27     27   \n",
       "Bukit Merah                         18                      18     18   \n",
       "Bukit Panjang                        9                       9      9   \n",
       "Bukit Timah                         57                      57     57   \n",
       "Central Area                       100                     100    100   \n",
       "Choa Chu Kang                       11                      11     11   \n",
       "Clementi                            14                      14     14   \n",
       "Geylang                             37                      37     37   \n",
       "Hougang                             16                      16     16   \n",
       "Jurong East                          7                       7      7   \n",
       "Jurong West                         61                      61     61   \n",
       "Kallang/Whampoa                     44                      44     44   \n",
       "Marine Parade                       68                      68     68   \n",
       "Pasir Ris                           19                      19     19   \n",
       "Punggol                              9                       9      9   \n",
       "Queenstown                          29                      29     29   \n",
       "Sembawang                            7                       7      7   \n",
       "Sengkang                            13                      13     13   \n",
       "Serangoon                           21                      21     21   \n",
       "Tampines                            22                      22     22   \n",
       "Toa Payoh                           22                      22     22   \n",
       "Woodlands                            4                       4      4   \n",
       "Yishun                              13                      13     13   \n",
       "\n",
       "                 Venue Latitude  Venue Longitude  Venue Category  \n",
       "Neighborhood                                                      \n",
       "Ang Mo Kio                   51               51              51  \n",
       "Bedok                        10               10              10  \n",
       "Bishan                       45               45              45  \n",
       "Bukit Batok                  27               27              27  \n",
       "Bukit Merah                  18               18              18  \n",
       "Bukit Panjang                 9                9               9  \n",
       "Bukit Timah                  57               57              57  \n",
       "Central Area                100              100             100  \n",
       "Choa Chu Kang                11               11              11  \n",
       "Clementi                     14               14              14  \n",
       "Geylang                      37               37              37  \n",
       "Hougang                      16               16              16  \n",
       "Jurong East                   7                7               7  \n",
       "Jurong West                  61               61              61  \n",
       "Kallang/Whampoa              44               44              44  \n",
       "Marine Parade                68               68              68  \n",
       "Pasir Ris                    19               19              19  \n",
       "Punggol                       9                9               9  \n",
       "Queenstown                   29               29              29  \n",
       "Sembawang                     7                7               7  \n",
       "Sengkang                     13               13              13  \n",
       "Serangoon                    21               21              21  \n",
       "Tampines                     22               22              22  \n",
       "Toa Payoh                    22               22              22  \n",
       "Woodlands                     4                4               4  \n",
       "Yishun                       13               13              13  "
      ]
     },
     "execution_count": 20,
     "metadata": {},
     "output_type": "execute_result"
    }
   ],
   "source": [
    "df_venues.groupby('Neighborhood').count()"
   ]
  },
  {
   "cell_type": "markdown",
   "metadata": {},
   "source": [
    "Let us formulate a table on which are the most common area where Singaporeans like to go in each town. First, we create a table to count the occurences of each venue, then we take a mean in each town. Then we use the function to tabulate each 5 common spaces in each town."
   ]
  },
  {
   "cell_type": "code",
   "execution_count": 21,
   "metadata": {
    "collapsed": false
   },
   "outputs": [
    {
     "name": "stderr",
     "output_type": "stream",
     "text": [
      "C:\\Users\\SONY\\Anaconda3\\lib\\site-packages\\ipykernel\\__main__.py:7: DeprecationWarning: \n",
      ".ix is deprecated. Please use\n",
      ".loc for label based indexing or\n",
      ".iloc for positional indexing\n",
      "\n",
      "See the documentation here:\n",
      "http://pandas.pydata.org/pandas-docs/stable/indexing.html#ix-indexer-is-deprecated\n"
     ]
    }
   ],
   "source": [
    "df_onehot = pd.get_dummies(df_venues[['Venue Category']], prefix=\"\", prefix_sep=\"\")\n",
    "\n",
    "# add neighborhood column back to dataframe\n",
    "df_onehot['Neighborhood'] = df_venues['Neighborhood'] \n",
    "cols = list(df_onehot)\n",
    "cols.insert(0, cols.pop(cols.index('Neighborhood')))\n",
    "df_onehot = df_onehot.ix[:, cols]"
   ]
  },
  {
   "cell_type": "code",
   "execution_count": 22,
   "metadata": {
    "collapsed": false
   },
   "outputs": [
    {
     "data": {
      "text/html": [
       "<div>\n",
       "<style scoped>\n",
       "    .dataframe tbody tr th:only-of-type {\n",
       "        vertical-align: middle;\n",
       "    }\n",
       "\n",
       "    .dataframe tbody tr th {\n",
       "        vertical-align: top;\n",
       "    }\n",
       "\n",
       "    .dataframe thead th {\n",
       "        text-align: right;\n",
       "    }\n",
       "</style>\n",
       "<table border=\"1\" class=\"dataframe\">\n",
       "  <thead>\n",
       "    <tr style=\"text-align: right;\">\n",
       "      <th></th>\n",
       "      <th>Neighborhood</th>\n",
       "      <th>American Restaurant</th>\n",
       "      <th>Art Gallery</th>\n",
       "      <th>Asian Restaurant</th>\n",
       "      <th>Athletics &amp; Sports</th>\n",
       "      <th>Australian Restaurant</th>\n",
       "      <th>BBQ Joint</th>\n",
       "      <th>Bakery</th>\n",
       "      <th>Bank</th>\n",
       "      <th>Bar</th>\n",
       "      <th>...</th>\n",
       "      <th>Train Station</th>\n",
       "      <th>Vegetarian / Vegan Restaurant</th>\n",
       "      <th>Veterinarian</th>\n",
       "      <th>Vietnamese Restaurant</th>\n",
       "      <th>Water Park</th>\n",
       "      <th>Waterfront</th>\n",
       "      <th>Wine Bar</th>\n",
       "      <th>Wine Shop</th>\n",
       "      <th>Wings Joint</th>\n",
       "      <th>Yoga Studio</th>\n",
       "    </tr>\n",
       "  </thead>\n",
       "  <tbody>\n",
       "    <tr>\n",
       "      <th>0</th>\n",
       "      <td>Ang Mo Kio</td>\n",
       "      <td>0</td>\n",
       "      <td>0</td>\n",
       "      <td>0</td>\n",
       "      <td>0</td>\n",
       "      <td>0</td>\n",
       "      <td>0</td>\n",
       "      <td>0</td>\n",
       "      <td>0</td>\n",
       "      <td>0</td>\n",
       "      <td>...</td>\n",
       "      <td>0</td>\n",
       "      <td>0</td>\n",
       "      <td>0</td>\n",
       "      <td>0</td>\n",
       "      <td>0</td>\n",
       "      <td>0</td>\n",
       "      <td>0</td>\n",
       "      <td>0</td>\n",
       "      <td>0</td>\n",
       "      <td>0</td>\n",
       "    </tr>\n",
       "    <tr>\n",
       "      <th>1</th>\n",
       "      <td>Ang Mo Kio</td>\n",
       "      <td>0</td>\n",
       "      <td>0</td>\n",
       "      <td>0</td>\n",
       "      <td>0</td>\n",
       "      <td>0</td>\n",
       "      <td>0</td>\n",
       "      <td>0</td>\n",
       "      <td>0</td>\n",
       "      <td>0</td>\n",
       "      <td>...</td>\n",
       "      <td>0</td>\n",
       "      <td>0</td>\n",
       "      <td>0</td>\n",
       "      <td>0</td>\n",
       "      <td>0</td>\n",
       "      <td>0</td>\n",
       "      <td>0</td>\n",
       "      <td>0</td>\n",
       "      <td>0</td>\n",
       "      <td>0</td>\n",
       "    </tr>\n",
       "    <tr>\n",
       "      <th>2</th>\n",
       "      <td>Ang Mo Kio</td>\n",
       "      <td>0</td>\n",
       "      <td>0</td>\n",
       "      <td>0</td>\n",
       "      <td>0</td>\n",
       "      <td>0</td>\n",
       "      <td>0</td>\n",
       "      <td>0</td>\n",
       "      <td>0</td>\n",
       "      <td>0</td>\n",
       "      <td>...</td>\n",
       "      <td>0</td>\n",
       "      <td>0</td>\n",
       "      <td>0</td>\n",
       "      <td>0</td>\n",
       "      <td>0</td>\n",
       "      <td>0</td>\n",
       "      <td>0</td>\n",
       "      <td>0</td>\n",
       "      <td>0</td>\n",
       "      <td>0</td>\n",
       "    </tr>\n",
       "    <tr>\n",
       "      <th>3</th>\n",
       "      <td>Ang Mo Kio</td>\n",
       "      <td>0</td>\n",
       "      <td>0</td>\n",
       "      <td>0</td>\n",
       "      <td>0</td>\n",
       "      <td>0</td>\n",
       "      <td>0</td>\n",
       "      <td>0</td>\n",
       "      <td>0</td>\n",
       "      <td>0</td>\n",
       "      <td>...</td>\n",
       "      <td>0</td>\n",
       "      <td>0</td>\n",
       "      <td>0</td>\n",
       "      <td>0</td>\n",
       "      <td>0</td>\n",
       "      <td>0</td>\n",
       "      <td>0</td>\n",
       "      <td>0</td>\n",
       "      <td>0</td>\n",
       "      <td>0</td>\n",
       "    </tr>\n",
       "    <tr>\n",
       "      <th>4</th>\n",
       "      <td>Ang Mo Kio</td>\n",
       "      <td>0</td>\n",
       "      <td>0</td>\n",
       "      <td>0</td>\n",
       "      <td>0</td>\n",
       "      <td>0</td>\n",
       "      <td>0</td>\n",
       "      <td>0</td>\n",
       "      <td>0</td>\n",
       "      <td>0</td>\n",
       "      <td>...</td>\n",
       "      <td>0</td>\n",
       "      <td>0</td>\n",
       "      <td>0</td>\n",
       "      <td>0</td>\n",
       "      <td>0</td>\n",
       "      <td>0</td>\n",
       "      <td>0</td>\n",
       "      <td>0</td>\n",
       "      <td>0</td>\n",
       "      <td>0</td>\n",
       "    </tr>\n",
       "  </tbody>\n",
       "</table>\n",
       "<p>5 rows × 164 columns</p>\n",
       "</div>"
      ],
      "text/plain": [
       "  Neighborhood  American Restaurant  Art Gallery  Asian Restaurant  \\\n",
       "0   Ang Mo Kio                    0            0                 0   \n",
       "1   Ang Mo Kio                    0            0                 0   \n",
       "2   Ang Mo Kio                    0            0                 0   \n",
       "3   Ang Mo Kio                    0            0                 0   \n",
       "4   Ang Mo Kio                    0            0                 0   \n",
       "\n",
       "   Athletics & Sports  Australian Restaurant  BBQ Joint  Bakery  Bank  Bar  \\\n",
       "0                   0                      0          0       0     0    0   \n",
       "1                   0                      0          0       0     0    0   \n",
       "2                   0                      0          0       0     0    0   \n",
       "3                   0                      0          0       0     0    0   \n",
       "4                   0                      0          0       0     0    0   \n",
       "\n",
       "      ...       Train Station  Vegetarian / Vegan Restaurant  Veterinarian  \\\n",
       "0     ...                   0                              0             0   \n",
       "1     ...                   0                              0             0   \n",
       "2     ...                   0                              0             0   \n",
       "3     ...                   0                              0             0   \n",
       "4     ...                   0                              0             0   \n",
       "\n",
       "   Vietnamese Restaurant  Water Park  Waterfront  Wine Bar  Wine Shop  \\\n",
       "0                      0           0           0         0          0   \n",
       "1                      0           0           0         0          0   \n",
       "2                      0           0           0         0          0   \n",
       "3                      0           0           0         0          0   \n",
       "4                      0           0           0         0          0   \n",
       "\n",
       "   Wings Joint  Yoga Studio  \n",
       "0            0            0  \n",
       "1            0            0  \n",
       "2            0            0  \n",
       "3            0            0  \n",
       "4            0            0  \n",
       "\n",
       "[5 rows x 164 columns]"
      ]
     },
     "execution_count": 22,
     "metadata": {},
     "output_type": "execute_result"
    }
   ],
   "source": [
    "df_onehot.head()"
   ]
  },
  {
   "cell_type": "code",
   "execution_count": 23,
   "metadata": {
    "collapsed": false
   },
   "outputs": [
    {
     "data": {
      "text/plain": [
       "(734, 164)"
      ]
     },
     "execution_count": 23,
     "metadata": {},
     "output_type": "execute_result"
    }
   ],
   "source": [
    "df_onehot.shape"
   ]
  },
  {
   "cell_type": "code",
   "execution_count": 24,
   "metadata": {
    "collapsed": true
   },
   "outputs": [],
   "source": [
    "df_grouped = df_onehot.groupby('Neighborhood').mean().reset_index()"
   ]
  },
  {
   "cell_type": "code",
   "execution_count": 25,
   "metadata": {
    "collapsed": true
   },
   "outputs": [],
   "source": [
    "num_top_venues = 5"
   ]
  },
  {
   "cell_type": "code",
   "execution_count": 26,
   "metadata": {
    "collapsed": true
   },
   "outputs": [],
   "source": [
    "def return_most_common_venues(row, num_top_venues):\n",
    "    row_categories = row.iloc[1:]\n",
    "    row_categories_sorted = row_categories.sort_values(ascending=False)\n",
    "    \n",
    "    return row_categories_sorted.index.values[0:num_top_venues]"
   ]
  },
  {
   "cell_type": "code",
   "execution_count": 27,
   "metadata": {
    "collapsed": false
   },
   "outputs": [
    {
     "data": {
      "text/html": [
       "<div>\n",
       "<style scoped>\n",
       "    .dataframe tbody tr th:only-of-type {\n",
       "        vertical-align: middle;\n",
       "    }\n",
       "\n",
       "    .dataframe tbody tr th {\n",
       "        vertical-align: top;\n",
       "    }\n",
       "\n",
       "    .dataframe thead th {\n",
       "        text-align: right;\n",
       "    }\n",
       "</style>\n",
       "<table border=\"1\" class=\"dataframe\">\n",
       "  <thead>\n",
       "    <tr style=\"text-align: right;\">\n",
       "      <th></th>\n",
       "      <th>Neighborhood</th>\n",
       "      <th>1st Most Common Venue</th>\n",
       "      <th>2nd Most Common Venue</th>\n",
       "      <th>3rd Most Common Venue</th>\n",
       "      <th>4th Most Common Venue</th>\n",
       "      <th>5th Most Common Venue</th>\n",
       "    </tr>\n",
       "  </thead>\n",
       "  <tbody>\n",
       "    <tr>\n",
       "      <th>0</th>\n",
       "      <td>Ang Mo Kio</td>\n",
       "      <td>Food Court</td>\n",
       "      <td>Coffee Shop</td>\n",
       "      <td>Dessert Shop</td>\n",
       "      <td>Bubble Tea Shop</td>\n",
       "      <td>Japanese Restaurant</td>\n",
       "    </tr>\n",
       "    <tr>\n",
       "      <th>1</th>\n",
       "      <td>Bedok</td>\n",
       "      <td>Pool</td>\n",
       "      <td>Basketball Court</td>\n",
       "      <td>Bus Line</td>\n",
       "      <td>Flower Shop</td>\n",
       "      <td>Noodle House</td>\n",
       "    </tr>\n",
       "    <tr>\n",
       "      <th>2</th>\n",
       "      <td>Bishan</td>\n",
       "      <td>Food Court</td>\n",
       "      <td>Coffee Shop</td>\n",
       "      <td>Chinese Restaurant</td>\n",
       "      <td>Bubble Tea Shop</td>\n",
       "      <td>Ice Cream Shop</td>\n",
       "    </tr>\n",
       "    <tr>\n",
       "      <th>3</th>\n",
       "      <td>Bukit Batok</td>\n",
       "      <td>Coffee Shop</td>\n",
       "      <td>Chinese Restaurant</td>\n",
       "      <td>Fast Food Restaurant</td>\n",
       "      <td>Food Court</td>\n",
       "      <td>Shopping Mall</td>\n",
       "    </tr>\n",
       "    <tr>\n",
       "      <th>4</th>\n",
       "      <td>Bukit Merah</td>\n",
       "      <td>Asian Restaurant</td>\n",
       "      <td>Bookstore</td>\n",
       "      <td>Café</td>\n",
       "      <td>Coffee Shop</td>\n",
       "      <td>Restaurant</td>\n",
       "    </tr>\n",
       "  </tbody>\n",
       "</table>\n",
       "</div>"
      ],
      "text/plain": [
       "  Neighborhood 1st Most Common Venue 2nd Most Common Venue  \\\n",
       "0   Ang Mo Kio            Food Court           Coffee Shop   \n",
       "1        Bedok                  Pool      Basketball Court   \n",
       "2       Bishan            Food Court           Coffee Shop   \n",
       "3  Bukit Batok           Coffee Shop    Chinese Restaurant   \n",
       "4  Bukit Merah      Asian Restaurant             Bookstore   \n",
       "\n",
       "  3rd Most Common Venue 4th Most Common Venue 5th Most Common Venue  \n",
       "0          Dessert Shop       Bubble Tea Shop   Japanese Restaurant  \n",
       "1              Bus Line           Flower Shop          Noodle House  \n",
       "2    Chinese Restaurant       Bubble Tea Shop        Ice Cream Shop  \n",
       "3  Fast Food Restaurant            Food Court         Shopping Mall  \n",
       "4                  Café           Coffee Shop            Restaurant  "
      ]
     },
     "execution_count": 27,
     "metadata": {},
     "output_type": "execute_result"
    }
   ],
   "source": [
    "indicators = ['st', 'nd', 'rd']\n",
    "\n",
    "# create columns according to number of top venues\n",
    "columns = ['Neighborhood']\n",
    "for ind in np.arange(num_top_venues):\n",
    "    try:\n",
    "        columns.append('{}{} Most Common Venue'.format(ind+1, indicators[ind]))\n",
    "    except:\n",
    "        columns.append('{}th Most Common Venue'.format(ind+1))\n",
    "\n",
    "# create a new dataframe\n",
    "neighborhoods_venues_sorted = pd.DataFrame(columns=columns)\n",
    "neighborhoods_venues_sorted['Neighborhood'] = df_grouped['Neighborhood']\n",
    "\n",
    "for ind in np.arange(df_grouped.shape[0]):\n",
    "    neighborhoods_venues_sorted.iloc[ind, 1:] = return_most_common_venues(df_grouped.iloc[ind, :], num_top_venues)\n",
    "\n",
    "neighborhoods_venues_sorted.head()"
   ]
  },
  {
   "cell_type": "markdown",
   "metadata": {},
   "source": [
    "Based on graph below, it shows that Coffee shop and Food Court are amognst the most common places Singaporean go."
   ]
  },
  {
   "cell_type": "code",
   "execution_count": 28,
   "metadata": {
    "collapsed": false
   },
   "outputs": [
    {
     "data": {
      "text/plain": [
       "(array([ 0,  1,  2,  3,  4,  5,  6,  7,  8,  9, 10, 11, 12, 13]),\n",
       " <a list of 14 Text xticklabel objects>)"
      ]
     },
     "execution_count": 28,
     "metadata": {},
     "output_type": "execute_result"
    },
    {
     "data": {
      "image/png": "[encoded data removed]",
      "text/plain": [
       "<matplotlib.figure.Figure at 0x1c0ae3c8>"
      ]
     },
     "metadata": {},
     "output_type": "display_data"
    }
   ],
   "source": [
    "plt.figure(figsize=(10,5))\n",
    "chart = sns.countplot(x='1st Most Common Venue',data=neighborhoods_venues_sorted)\n",
    "plt.xticks(rotation=45, horizontalalignment='right',fontweight='light',fontsize='x-large')"
   ]
  },
  {
   "cell_type": "code",
   "execution_count": 29,
   "metadata": {
    "collapsed": true
   },
   "outputs": [],
   "source": [
    "from sklearn.cluster import KMeans"
   ]
  },
  {
   "cell_type": "code",
   "execution_count": 30,
   "metadata": {
    "collapsed": true
   },
   "outputs": [],
   "source": [
    "from yellowbrick.cluster import KElbowVisualizer"
   ]
  },
  {
   "cell_type": "markdown",
   "metadata": {},
   "source": [
    "We make use of K-means clustering to form cluster such that we can better understand the distribution of each cluster across Singapore. By using the elbow method, we find the optimal K value. Dividing the data into 3 cluster is the optimal option in this case."
   ]
  },
  {
   "cell_type": "code",
   "execution_count": 31,
   "metadata": {
    "collapsed": true
   },
   "outputs": [],
   "source": [
    "df_grouped_clustering = df_grouped.drop('Neighborhood', 1)"
   ]
  },
  {
   "cell_type": "code",
   "execution_count": 59,
   "metadata": {
    "collapsed": true
   },
   "outputs": [],
   "source": [
    "model = KMeans(random_state=0)"
   ]
  },
  {
   "cell_type": "code",
   "execution_count": 64,
   "metadata": {
    "collapsed": true
   },
   "outputs": [],
   "source": [
    "visualiser = KElbowVisualizer(model, k=(1,12))"
   ]
  },
  {
   "cell_type": "code",
   "execution_count": 65,
   "metadata": {
    "collapsed": false
   },
   "outputs": [
    {
     "name": "stderr",
     "output_type": "stream",
     "text": [
      "C:\\Users\\SONY\\AppData\\Roaming\\Python\\Python35\\site-packages\\yellowbrick\\utils\\kneed.py:140: YellowbrickWarning: No 'knee' or 'elbow point' detected This could be due to bad clustering, no actual clusters being formed etc.\n",
      "  warnings.warn(warning_message, YellowbrickWarning)\n",
      "C:\\Users\\SONY\\AppData\\Roaming\\Python\\Python35\\site-packages\\yellowbrick\\cluster\\elbow.py:343: YellowbrickWarning: No 'knee' or 'elbow' point detected, pass `locate_elbow=False` to remove the warning\n",
      "  warnings.warn(warning_message, YellowbrickWarning)\n"
     ]
    },
    {
     "data": {
      "text/plain": [
       "KElbowVisualizer(ax=<matplotlib.axes._subplots.AxesSubplot object at 0x00000000116B95C0>,\n",
       "                 k=None, locate_elbow=True, metric='distortion', model=None,\n",
       "                 timings=True)"
      ]
     },
     "execution_count": 65,
     "metadata": {},
     "output_type": "execute_result"
    },
    {
     "data": {
      "image/png": "[encoded data removed]",
      "text/plain": [
       "<matplotlib.figure.Figure at 0x1183e390>"
      ]
     },
     "metadata": {},
     "output_type": "display_data"
    }
   ],
   "source": [
    "visualiser.fit(df_grouped_clustering)"
   ]
  },
  {
   "cell_type": "code",
   "execution_count": 58,
   "metadata": {
    "collapsed": false
   },
   "outputs": [
    {
     "data": {
      "text/plain": [
       "<matplotlib.axes._subplots.AxesSubplot at 0x1fdb3e80>"
      ]
     },
     "execution_count": 58,
     "metadata": {},
     "output_type": "execute_result"
    }
   ],
   "source": [
    "visualiser.show()  #lowest distortion score distance from each point between each assigned centroid"
   ]
  },
  {
   "cell_type": "markdown",
   "metadata": {},
   "source": [
    "Thus, we will divide the data into 3 clusters."
   ]
  },
  {
   "cell_type": "code",
   "execution_count": 36,
   "metadata": {
    "collapsed": false
   },
   "outputs": [
    {
     "data": {
      "text/plain": [
       "array([0, 0, 0, 0, 0, 0, 0, 0, 1, 0])"
      ]
     },
     "execution_count": 36,
     "metadata": {},
     "output_type": "execute_result"
    }
   ],
   "source": [
    "# set number of clusters\n",
    "kclusters = 3\n",
    "\n",
    "# run k-means clustering\n",
    "kmeans = KMeans(n_clusters=kclusters, random_state=0).fit(df_grouped_clustering)\n",
    "\n",
    "# check cluster labels generated for each row in the dataframe\n",
    "kmeans.labels_[0:10]"
   ]
  },
  {
   "cell_type": "code",
   "execution_count": 37,
   "metadata": {
    "collapsed": true
   },
   "outputs": [],
   "source": [
    "neighborhoods_venues_sorted.insert(0, 'Cluster Labels', kmeans.labels_)"
   ]
  },
  {
   "cell_type": "code",
   "execution_count": 38,
   "metadata": {
    "collapsed": false
   },
   "outputs": [
    {
     "data": {
      "text/html": [
       "<div>\n",
       "<style scoped>\n",
       "    .dataframe tbody tr th:only-of-type {\n",
       "        vertical-align: middle;\n",
       "    }\n",
       "\n",
       "    .dataframe tbody tr th {\n",
       "        vertical-align: top;\n",
       "    }\n",
       "\n",
       "    .dataframe thead th {\n",
       "        text-align: right;\n",
       "    }\n",
       "</style>\n",
       "<table border=\"1\" class=\"dataframe\">\n",
       "  <thead>\n",
       "    <tr style=\"text-align: right;\">\n",
       "      <th></th>\n",
       "      <th>Cluster Labels</th>\n",
       "      <th>Neighborhood</th>\n",
       "      <th>1st Most Common Venue</th>\n",
       "      <th>2nd Most Common Venue</th>\n",
       "      <th>3rd Most Common Venue</th>\n",
       "      <th>4th Most Common Venue</th>\n",
       "      <th>5th Most Common Venue</th>\n",
       "    </tr>\n",
       "  </thead>\n",
       "  <tbody>\n",
       "    <tr>\n",
       "      <th>0</th>\n",
       "      <td>0</td>\n",
       "      <td>Ang Mo Kio</td>\n",
       "      <td>Food Court</td>\n",
       "      <td>Coffee Shop</td>\n",
       "      <td>Dessert Shop</td>\n",
       "      <td>Bubble Tea Shop</td>\n",
       "      <td>Japanese Restaurant</td>\n",
       "    </tr>\n",
       "    <tr>\n",
       "      <th>1</th>\n",
       "      <td>0</td>\n",
       "      <td>Bedok</td>\n",
       "      <td>Pool</td>\n",
       "      <td>Basketball Court</td>\n",
       "      <td>Bus Line</td>\n",
       "      <td>Flower Shop</td>\n",
       "      <td>Noodle House</td>\n",
       "    </tr>\n",
       "    <tr>\n",
       "      <th>2</th>\n",
       "      <td>0</td>\n",
       "      <td>Bishan</td>\n",
       "      <td>Food Court</td>\n",
       "      <td>Coffee Shop</td>\n",
       "      <td>Chinese Restaurant</td>\n",
       "      <td>Bubble Tea Shop</td>\n",
       "      <td>Ice Cream Shop</td>\n",
       "    </tr>\n",
       "    <tr>\n",
       "      <th>3</th>\n",
       "      <td>0</td>\n",
       "      <td>Bukit Batok</td>\n",
       "      <td>Coffee Shop</td>\n",
       "      <td>Chinese Restaurant</td>\n",
       "      <td>Fast Food Restaurant</td>\n",
       "      <td>Food Court</td>\n",
       "      <td>Shopping Mall</td>\n",
       "    </tr>\n",
       "    <tr>\n",
       "      <th>4</th>\n",
       "      <td>0</td>\n",
       "      <td>Bukit Merah</td>\n",
       "      <td>Asian Restaurant</td>\n",
       "      <td>Bookstore</td>\n",
       "      <td>Café</td>\n",
       "      <td>Coffee Shop</td>\n",
       "      <td>Restaurant</td>\n",
       "    </tr>\n",
       "  </tbody>\n",
       "</table>\n",
       "</div>"
      ],
      "text/plain": [
       "   Cluster Labels Neighborhood 1st Most Common Venue 2nd Most Common Venue  \\\n",
       "0               0   Ang Mo Kio            Food Court           Coffee Shop   \n",
       "1               0        Bedok                  Pool      Basketball Court   \n",
       "2               0       Bishan            Food Court           Coffee Shop   \n",
       "3               0  Bukit Batok           Coffee Shop    Chinese Restaurant   \n",
       "4               0  Bukit Merah      Asian Restaurant             Bookstore   \n",
       "\n",
       "  3rd Most Common Venue 4th Most Common Venue 5th Most Common Venue  \n",
       "0          Dessert Shop       Bubble Tea Shop   Japanese Restaurant  \n",
       "1              Bus Line           Flower Shop          Noodle House  \n",
       "2    Chinese Restaurant       Bubble Tea Shop        Ice Cream Shop  \n",
       "3  Fast Food Restaurant            Food Court         Shopping Mall  \n",
       "4                  Café           Coffee Shop            Restaurant  "
      ]
     },
     "execution_count": 38,
     "metadata": {},
     "output_type": "execute_result"
    }
   ],
   "source": [
    "neighborhoods_venues_sorted.head()"
   ]
  },
  {
   "cell_type": "code",
   "execution_count": 39,
   "metadata": {
    "collapsed": false
   },
   "outputs": [],
   "source": [
    "df.rename(columns={'Town': 'Neighborhood'}, inplace=True)"
   ]
  },
  {
   "cell_type": "code",
   "execution_count": 40,
   "metadata": {
    "collapsed": false
   },
   "outputs": [],
   "source": [
    "df_merged = df\n",
    "\n",
    "# merge toronto_grouped with toronto_data to add latitude/longitude for each neighborhood\n",
    "df_merged = df_merged.join(neighborhoods_venues_sorted.set_index('Neighborhood'), on='Neighborhood')"
   ]
  },
  {
   "cell_type": "code",
   "execution_count": 41,
   "metadata": {
    "collapsed": false
   },
   "outputs": [
    {
     "data": {
      "text/html": [
       "<div>\n",
       "<style scoped>\n",
       "    .dataframe tbody tr th:only-of-type {\n",
       "        vertical-align: middle;\n",
       "    }\n",
       "\n",
       "    .dataframe tbody tr th {\n",
       "        vertical-align: top;\n",
       "    }\n",
       "\n",
       "    .dataframe thead th {\n",
       "        text-align: right;\n",
       "    }\n",
       "</style>\n",
       "<table border=\"1\" class=\"dataframe\">\n",
       "  <thead>\n",
       "    <tr style=\"text-align: right;\">\n",
       "      <th></th>\n",
       "      <th>Neighborhood</th>\n",
       "      <th>latitude</th>\n",
       "      <th>longitude</th>\n",
       "      <th>Cluster Labels</th>\n",
       "      <th>1st Most Common Venue</th>\n",
       "      <th>2nd Most Common Venue</th>\n",
       "      <th>3rd Most Common Venue</th>\n",
       "      <th>4th Most Common Venue</th>\n",
       "      <th>5th Most Common Venue</th>\n",
       "    </tr>\n",
       "  </thead>\n",
       "  <tbody>\n",
       "    <tr>\n",
       "      <th>0</th>\n",
       "      <td>Ang Mo Kio</td>\n",
       "      <td>1.369955509</td>\n",
       "      <td>103.8466998</td>\n",
       "      <td>0</td>\n",
       "      <td>Food Court</td>\n",
       "      <td>Coffee Shop</td>\n",
       "      <td>Dessert Shop</td>\n",
       "      <td>Bubble Tea Shop</td>\n",
       "      <td>Japanese Restaurant</td>\n",
       "    </tr>\n",
       "    <tr>\n",
       "      <th>1</th>\n",
       "      <td>Bedok</td>\n",
       "      <td>1.323682017</td>\n",
       "      <td>103.9477893</td>\n",
       "      <td>0</td>\n",
       "      <td>Pool</td>\n",
       "      <td>Basketball Court</td>\n",
       "      <td>Bus Line</td>\n",
       "      <td>Flower Shop</td>\n",
       "      <td>Noodle House</td>\n",
       "    </tr>\n",
       "    <tr>\n",
       "      <th>2</th>\n",
       "      <td>Bishan</td>\n",
       "      <td>1.347306941</td>\n",
       "      <td>103.85241490000001</td>\n",
       "      <td>0</td>\n",
       "      <td>Food Court</td>\n",
       "      <td>Coffee Shop</td>\n",
       "      <td>Chinese Restaurant</td>\n",
       "      <td>Bubble Tea Shop</td>\n",
       "      <td>Ice Cream Shop</td>\n",
       "    </tr>\n",
       "    <tr>\n",
       "      <th>3</th>\n",
       "      <td>Bukit Batok</td>\n",
       "      <td>1.3493675019999998</td>\n",
       "      <td>103.7453474</td>\n",
       "      <td>0</td>\n",
       "      <td>Coffee Shop</td>\n",
       "      <td>Chinese Restaurant</td>\n",
       "      <td>Fast Food Restaurant</td>\n",
       "      <td>Food Court</td>\n",
       "      <td>Shopping Mall</td>\n",
       "    </tr>\n",
       "    <tr>\n",
       "      <th>4</th>\n",
       "      <td>Bukit Merah</td>\n",
       "      <td>1.279256199</td>\n",
       "      <td>103.82720929999999</td>\n",
       "      <td>0</td>\n",
       "      <td>Asian Restaurant</td>\n",
       "      <td>Bookstore</td>\n",
       "      <td>Café</td>\n",
       "      <td>Coffee Shop</td>\n",
       "      <td>Restaurant</td>\n",
       "    </tr>\n",
       "  </tbody>\n",
       "</table>\n",
       "</div>"
      ],
      "text/plain": [
       "  Neighborhood            latitude           longitude  Cluster Labels  \\\n",
       "0   Ang Mo Kio         1.369955509         103.8466998               0   \n",
       "1        Bedok         1.323682017         103.9477893               0   \n",
       "2       Bishan         1.347306941  103.85241490000001               0   \n",
       "3  Bukit Batok  1.3493675019999998         103.7453474               0   \n",
       "4  Bukit Merah         1.279256199  103.82720929999999               0   \n",
       "\n",
       "  1st Most Common Venue 2nd Most Common Venue 3rd Most Common Venue  \\\n",
       "0            Food Court           Coffee Shop          Dessert Shop   \n",
       "1                  Pool      Basketball Court              Bus Line   \n",
       "2            Food Court           Coffee Shop    Chinese Restaurant   \n",
       "3           Coffee Shop    Chinese Restaurant  Fast Food Restaurant   \n",
       "4      Asian Restaurant             Bookstore                  Café   \n",
       "\n",
       "  4th Most Common Venue 5th Most Common Venue  \n",
       "0       Bubble Tea Shop   Japanese Restaurant  \n",
       "1           Flower Shop          Noodle House  \n",
       "2       Bubble Tea Shop        Ice Cream Shop  \n",
       "3            Food Court         Shopping Mall  \n",
       "4           Coffee Shop            Restaurant  "
      ]
     },
     "execution_count": 41,
     "metadata": {},
     "output_type": "execute_result"
    }
   ],
   "source": [
    "df_merged.head()"
   ]
  },
  {
   "cell_type": "markdown",
   "metadata": {},
   "source": [
    "Let us now examine what are the distinct feasture of each cluster"
   ]
  },
  {
   "cell_type": "code",
   "execution_count": 42,
   "metadata": {
    "collapsed": false
   },
   "outputs": [
    {
     "data": {
      "text/plain": [
       "<matplotlib.figure.Figure at 0x1cc779e8>"
      ]
     },
     "metadata": {},
     "output_type": "display_data"
    },
    {
     "data": {
      "image/png": "[encoded data removed]",
      "text/plain": [
       "<matplotlib.figure.Figure at 0x1ccee4e0>"
      ]
     },
     "metadata": {},
     "output_type": "display_data"
    }
   ],
   "source": [
    "plt.figure(figsize=(10,5))\n",
    "chart = sns.catplot(x='1st Most Common Venue',kind = 'count',row = 'Cluster Labels',data=df_merged[df_merged['Cluster Labels'].isin([0,1,2])],aspect = 3,height =3)\n",
    "for axes in chart.axes.flat:\n",
    "    axes.set_xticklabels(axes.get_xticklabels(), rotation=65, horizontalalignment='right')"
   ]
  },
  {
   "cell_type": "code",
   "execution_count": 43,
   "metadata": {
    "collapsed": false
   },
   "outputs": [
    {
     "data": {
      "text/plain": [
       "<matplotlib.figure.Figure at 0x1ff5b128>"
      ]
     },
     "metadata": {},
     "output_type": "display_data"
    },
    {
     "data": {
      "image/png": "[encoded data removed]",
      "text/plain": [
       "<matplotlib.figure.Figure at 0x1cd4cf98>"
      ]
     },
     "metadata": {},
     "output_type": "display_data"
    }
   ],
   "source": [
    "plt.figure(figsize=(10,5))\n",
    "chart = sns.catplot(x='2nd Most Common Venue',kind = 'count',row = 'Cluster Labels',data=df_merged[df_merged['Cluster Labels'].isin([0,1,2])],aspect = 3,height =3)\n",
    "for axes in chart.axes.flat:\n",
    "    axes.set_xticklabels(axes.get_xticklabels(), rotation=65, horizontalalignment='right')"
   ]
  },
  {
   "cell_type": "code",
   "execution_count": 44,
   "metadata": {
    "collapsed": false
   },
   "outputs": [
    {
     "data": {
      "text/plain": [
       "<matplotlib.figure.Figure at 0x1fe2bb70>"
      ]
     },
     "metadata": {},
     "output_type": "display_data"
    },
    {
     "data": {
      "image/png": "[encoded data removed]",
      "text/plain": [
       "<matplotlib.figure.Figure at 0x1fe63588>"
      ]
     },
     "metadata": {},
     "output_type": "display_data"
    }
   ],
   "source": [
    "plt.figure(figsize=(10,5))\n",
    "chart = sns.catplot(x='3rd Most Common Venue',kind = 'count',row = 'Cluster Labels',data=df_merged[df_merged['Cluster Labels'].isin([0,1,2])],aspect = 3,height =3)\n",
    "for axes in chart.axes.flat:\n",
    "    axes.set_xticklabels(axes.get_xticklabels(), rotation=65, horizontalalignment='right')"
   ]
  },
  {
   "cell_type": "markdown",
   "metadata": {},
   "source": [
    "Based on graph above, we see that\n",
    "\n",
    "1. Cluster 1 -- Leisure and recreational activities\n",
    "2. Cluster 2 -- Shopping and food such as coffee shop, Dessert shop etc.\n",
    "3. Cluster 3 -- Transportation and convenience store"
   ]
  },
  {
   "cell_type": "code",
   "execution_count": 45,
   "metadata": {
    "collapsed": true
   },
   "outputs": [],
   "source": [
    "import folium \n",
    "from geopy.geocoders import Nominatim\n",
    "import matplotlib.cm as cm\n",
    "import matplotlib.colors as colors\n",
    "from IPython.display import display"
   ]
  },
  {
   "cell_type": "code",
   "execution_count": 46,
   "metadata": {
    "collapsed": false
   },
   "outputs": [
    {
     "name": "stdout",
     "output_type": "stream",
     "text": [
      "The geograpical coordinate of Singapore are 1.357107, 103.8194992.\n"
     ]
    }
   ],
   "source": [
    "address = 'Singapore'\n",
    "\n",
    "geolocator = Nominatim(user_agent=\"sg_explorer\")\n",
    "location = geolocator.geocode(address)\n",
    "latitude = location.latitude\n",
    "longitude = location.longitude\n",
    "print('The geograpical coordinate of Singapore are {}, {}.'.format(latitude, longitude))"
   ]
  },
  {
   "cell_type": "code",
   "execution_count": 47,
   "metadata": {
    "collapsed": true
   },
   "outputs": [],
   "source": [
    "map_clusters = folium.Map(location=[latitude, longitude], zoom_start=11)"
   ]
  },
  {
   "cell_type": "code",
   "execution_count": 48,
   "metadata": {
    "collapsed": false
   },
   "outputs": [
    {
     "data": {
      "text/html": [
       "<iframe src=map_clusters_sg.html width=700 height=450></iframe>"
      ],
      "text/plain": [
       "<IPython.core.display.HTML object>"
      ]
     },
     "execution_count": 48,
     "metadata": {},
     "output_type": "execute_result"
    }
   ],
   "source": [
    "# set color scheme for the clusters\n",
    "x = np.arange(kclusters)\n",
    "ys = [i + x + (i*x)**2 for i in range(kclusters)]\n",
    "colors_array = cm.rainbow(np.linspace(0, 1, len(ys)))\n",
    "rainbow = [colors.rgb2hex(i) for i in colors_array]\n",
    "\n",
    "# add markers to the map\n",
    "markers_colors = []\n",
    "for lat, lon, poi, cluster in zip(df_merged['latitude'], df_merged['longitude'], df_merged['Neighborhood'], df_merged['Cluster Labels']):\n",
    "    label = folium.Popup(str(poi) + ' Cluster ' + str(cluster), parse_html=True)\n",
    "    folium.CircleMarker(\n",
    "        [lat, lon],\n",
    "        radius=5,\n",
    "        popup=label,\n",
    "        color=rainbow[cluster-1],\n",
    "        fill=True,\n",
    "        fill_color=rainbow[cluster-1],\n",
    "        fill_opacity=0.7).add_to(map_clusters)\n",
    "       \n",
    "map_clusters.save('map_clusters_sg.html')\n",
    "# Import the Folium interactive html file\n",
    "\n",
    "\n",
    "from IPython.display import HTML\n",
    "HTML('<iframe src=map_clusters_sg.html width=700 height=450></iframe>')"
   ]
  },
  {
   "cell_type": "code",
   "execution_count": 49,
   "metadata": {
    "collapsed": false
   },
   "outputs": [
    {
     "data": {
      "text/plain": [
       "164"
      ]
     },
     "execution_count": 49,
     "metadata": {},
     "output_type": "execute_result"
    }
   ],
   "source": [
    "len(df_venues['Venue Category'].unique())"
   ]
  },
  {
   "cell_type": "markdown",
   "metadata": {
    "collapsed": false
   },
   "source": [
    "### Discussion"
   ]
  },
  {
   "cell_type": "markdown",
   "metadata": {
    "collapsed": false
   },
   "source": [
    "The above second graph has given us an insight on overview of venues for each cluster,therefore In overall, we have 3 main clusters:\n",
    "1. Cluster 1 -- Leisure and recreational activities\n",
    "2. Cluster 2 -- Shopping and food such as coffee shop, Dessert shop etc.\n",
    "3. Cluster 3 -- Transportation and convenience store\n",
    "\n",
    "This is relatively true that Singaporean loves to go Food Court and coffee shop, all 3 cluster reflects this phenomenon. On the other hand, what makes them distinct from one another are highly determined by 2nd and 3rd most common places instead. \n",
    "\n",
    "We observed that based on the map above, cluster 2 which represented by purple dots is mostly residential area and central area and where most shipping and eatery are located. Cluster 1 which represented by red dots is located near nature reserves such as Bukit Timah nature reserve and zoos. \n",
    "    \n"
   ]
  },
  {
   "cell_type": "markdown",
   "metadata": {
    "collapsed": false
   },
   "source": [
    "### Conclusion"
   ]
  },
  {
   "cell_type": "markdown",
   "metadata": {
    "collapsed": false
   },
   "source": [
    "We can see that recreational facilities and parks are concentrated in north-west area of Singapore. Competition is high in the mentioned area. Based on data collected, almost all cluster first common places are food court and coffee shop. Food Court usually comes together with shopping centres. Recreational owner may want to explore business in small scale and incorporate the idea in shopping malls."
   ]
  },
  {
   "cell_type": "code",
   "execution_count": null,
   "metadata": {
    "collapsed": true
   },
   "outputs": [],
   "source": []
  }
 ],
 "metadata": {
  "anaconda-cloud": {},
  "kernelspec": {
   "display_name": "Python [default]",
   "language": "python",
   "name": "python3"
  },
  "language_info": {
   "codemirror_mode": {
    "name": "ipython",
    "version": 3
   },
   "file_extension": ".py",
   "mimetype": "text/x-python",
   "name": "python",
   "nbconvert_exporter": "python",
   "pygments_lexer": "ipython3",
   "version": "3.5.6"
  }
 },
 "nbformat": 4,
 "nbformat_minor": 2
}
