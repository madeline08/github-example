{
 "cells": [
  {
   "cell_type": "markdown",
   "metadata": {},
   "source": [
    "# Capstone Project Week 4"
   ]
  },
  {
   "cell_type": "markdown",
   "metadata": {},
   "source": [
    "### Introducion"
   ]
  },
  {
   "cell_type": "markdown",
   "metadata": {},
   "source": [
    "In this sudy, we will examine what characteristic of each town and which part of Singapore should a recreational business start. Recreational business owner will be interested in this project."
   ]
  },
  {
   "cell_type": "markdown",
   "metadata": {},
   "source": [
    "For Data, we will use list of Towns in Singapore by using Wikipedia. We will examine the following features of town:\n",
    "- what are their most common spot in each town\n",
    "- What is the distribution of nature of business\n",
    "\n",
    "We will make use of Foursquare location data to further understand the pattern/behavior of  locals and competition level in the country. We will also use OneMap API to obtain the location cooridnates of each town in Singapore. \n",
    "\n",
    "A location shall be recommended based on:\n",
    "1. Competition within Town\n",
    "2. Location\n",
    "3. Behaviour of customer -- interest level by the general public"
   ]
  },
  {
   "cell_type": "code",
   "execution_count": null,
   "metadata": {
    "collapsed": true
   },
   "outputs": [],
   "source": []
  }
 ],
 "metadata": {
  "anaconda-cloud": {},
  "kernelspec": {
   "display_name": "Python [default]",
   "language": "python",
   "name": "python3"
  },
  "language_info": {
   "codemirror_mode": {
    "name": "ipython",
    "version": 3
   },
   "file_extension": ".py",
   "mimetype": "text/x-python",
   "name": "python",
   "nbconvert_exporter": "python",
   "pygments_lexer": "ipython3",
   "version": "3.5.6"
  }
 },
 "nbformat": 4,
 "nbformat_minor": 2
}
